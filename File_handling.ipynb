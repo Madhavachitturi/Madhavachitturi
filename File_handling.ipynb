{
  "nbformat": 4,
  "nbformat_minor": 0,
  "metadata": {
    "colab": {
      "provenance": [],
      "authorship_tag": "ABX9TyN08kHF5GR/6QEaikn2YXpk",
      "include_colab_link": true
    },
    "kernelspec": {
      "name": "python3",
      "display_name": "Python 3"
    },
    "language_info": {
      "name": "python"
    }
  },
  "cells": [
    {
      "cell_type": "markdown",
      "metadata": {
        "id": "view-in-github",
        "colab_type": "text"
      },
      "source": [
        "<a href=\"https://colab.research.google.com/github/Madhavachitturi/Madhavachitturi/blob/main/File_handling.ipynb\" target=\"_parent\"><img src=\"https://colab.research.google.com/assets/colab-badge.svg\" alt=\"Open In Colab\"/></a>"
      ]
    },
    {
      "cell_type": "markdown",
      "source": [
        "# File Handling\n",
        "\n",
        "# `r`\n",
        "- r means to read. So, it opens a file for read-only operation. The file pointer exists at the beginning. The file is by default open in this mode if no access mode is passed.\n",
        "\n",
        "# `w`\n",
        "- It opens the file to write only. It overwrites the file if previously exists or creates a new one if no file exists with the same name. The file pointer exists at the beginning of the file.\n",
        "\n",
        "# `a`\n",
        "- It opens the file in the append mode. The file pointer exists at the end of the previously written file if exists any. It creates a new file if no file exists with the same name.\n",
        "---\n",
        "# `rb`\n",
        "- It opens the file to read-only in binary format. The file pointer exists at the beginning of the file.\n",
        "\n",
        "# `wb`\n",
        "- It opens the file to write only in binary format. It overwrites the file if it exists previously or creates a new one if no file exists. The file pointer exists at the beginning of the file.\n",
        "\n",
        "#` ab`\n",
        "\n",
        "- It opens the file in the append mode in binary format. The pointer exists at the end of the previously written file. It creates a new file in binary format if no file exists with the same name.\n",
        "\n",
        "---\n",
        "\n",
        "# `r+`\n",
        "- It opens the file to read and write both. The file pointer exists at the beginning of the file.\n",
        "\n",
        "# `w`+\n",
        "- It opens the file to write and read both. It is different from r+ in the sense that it overwrites the previous file if one exists whereas r+ doesn't overwrite the previously written file. It creates a new file if no file exists. The file pointer exists at the beginning of the file.\n",
        "\n",
        "#`a+`\n",
        "-\n",
        "It opens a file to append and read both. The file pointer remains at the end of the file if a file exists. It creates a new file if no file exists with the same name.\n",
        "\n",
        "---\n",
        "---\n",
        "\n",
        "\n",
        "\n"
      ],
      "metadata": {
        "id": "sDFQYna3885p"
      }
    },
    {
      "cell_type": "code",
      "execution_count": 33,
      "metadata": {
        "colab": {
          "base_uri": "https://localhost:8080/"
        },
        "id": "goAhmSY0yahg",
        "outputId": "203ae4a9-ee12-4663-c623-afac93eb0b36"
      },
      "outputs": [
        {
          "output_type": "stream",
          "name": "stdout",
          "text": [
            "file is opened successfully\n"
          ]
        }
      ],
      "source": [
        "fileptr = open(\"file.txt\",\"w\")\n",
        "if fileptr:\n",
        "    print(\"file is opened successfully\")\n"
      ]
    },
    {
      "cell_type": "code",
      "source": [
        "with open('file.txt', 'a+') as f:\n",
        "  content = f.read()\n",
        "  print(content)\n"
      ],
      "metadata": {
        "colab": {
          "base_uri": "https://localhost:8080/"
        },
        "id": "gl0MEhwxy6lB",
        "outputId": "b5be2b2c-e041-43fc-8fd5-7cf197fe3617"
      },
      "execution_count": 34,
      "outputs": [
        {
          "output_type": "stream",
          "name": "stdout",
          "text": [
            "\n"
          ]
        }
      ]
    },
    {
      "cell_type": "code",
      "source": [
        "fileptr = open(\"file2.txt\", \"w\")\n",
        "\n",
        "# appending the content to the file\n",
        "fileptr.write('''Python is the modern programming language. It is done any kind of program in shortest way.''')\n"
      ],
      "metadata": {
        "colab": {
          "base_uri": "https://localhost:8080/"
        },
        "id": "uG_5SI4H1J1R",
        "outputId": "5c0838ad-0b11-42cf-adb7-a1157c418a90"
      },
      "execution_count": 37,
      "outputs": [
        {
          "output_type": "execute_result",
          "data": {
            "text/plain": [
              "90"
            ]
          },
          "metadata": {},
          "execution_count": 37
        }
      ]
    },
    {
      "cell_type": "code",
      "source": [
        "try:\n",
        "  fileptr = open('file.txt', 'a+')  #appends the data and the pointer will be at the end of the file\n",
        "  fileptr.write('I am here')        #this text will be addedd to the file\n",
        "finally:\n",
        "  fileptr.close()#closes the file"
      ],
      "metadata": {
        "id": "PaCdJKuo7VIG"
      },
      "execution_count": 41,
      "outputs": []
    },
    {
      "cell_type": "code",
      "source": [
        "open('file.txt', 'w') #overwrites the fill(erases the data before)"
      ],
      "metadata": {
        "colab": {
          "base_uri": "https://localhost:8080/"
        },
        "id": "4_f8K9Sp8hgB",
        "outputId": "7e8a71d3-caff-4929-8891-11e98d88bb9d"
      },
      "execution_count": 40,
      "outputs": [
        {
          "output_type": "execute_result",
          "data": {
            "text/plain": [
              "<_io.TextIOWrapper name='file.txt' mode='w' encoding='UTF-8'>"
            ]
          },
          "metadata": {},
          "execution_count": 40
        }
      ]
    }
  ]
}